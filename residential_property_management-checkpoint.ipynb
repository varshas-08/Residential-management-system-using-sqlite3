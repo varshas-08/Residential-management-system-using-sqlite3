{
 "cells": [
  {
   "cell_type": "markdown",
   "id": "b8bb999d-12c7-427b-8683-dfd0f9920e89",
   "metadata": {},
   "source": [
    "# Importing the necessary libraries and extensions"
   ]
  },
  {
   "cell_type": "code",
   "execution_count": 1,
   "id": "12be3fc5-fec1-4bcf-8e36-cbdd9dd01f7c",
   "metadata": {},
   "outputs": [],
   "source": [
    "import sqlite3\n",
    "import pandas as pd\n",
    "import csv\n",
    "from matplotlib import pyplot as plt\n",
    "%matplotlib inline"
   ]
  },
  {
   "cell_type": "code",
   "execution_count": 2,
   "id": "13afbbca-3b2a-4117-9e14-48eef4adc97f",
   "metadata": {},
   "outputs": [],
   "source": [
    "%load_ext sql"
   ]
  },
  {
   "cell_type": "markdown",
   "id": "e984097c-61c5-43ac-a12d-7ad3506e8d10",
   "metadata": {},
   "source": [
    "*connecting with server and creating database*"
   ]
  },
  {
   "cell_type": "code",
   "execution_count": 3,
   "id": "e6a542ef-47ce-4e7f-9da2-5c2f8ebafc91",
   "metadata": {},
   "outputs": [],
   "source": [
    "conn= sqlite3.connect('residence_management.db')\n",
    "cur= conn.cursor()"
   ]
  },
  {
   "cell_type": "code",
   "execution_count": 4,
   "id": "0c8600af-3631-47d8-9b12-380d5dc30c66",
   "metadata": {},
   "outputs": [],
   "source": [
    "%sql sqlite:///'residence_management.db'"
   ]
  },
  {
   "cell_type": "markdown",
   "id": "025f1e90-ffc2-46d7-b077-72c63a948508",
   "metadata": {},
   "source": [
    "# creating necessary tables"
   ]
  },
  {
   "cell_type": "markdown",
   "id": "3590f847-b698-428f-bee1-639dff199348",
   "metadata": {},
   "source": [
    "#### creating table 'properties'"
   ]
  },
  {
   "cell_type": "code",
   "execution_count": 5,
   "id": "48bd2f9c-6c92-403f-9700-56e6802d5ec6",
   "metadata": {},
   "outputs": [
    {
     "data": {
      "text/plain": [
       "<sqlite3.Cursor at 0x2c2c3127540>"
      ]
     },
     "execution_count": 5,
     "metadata": {},
     "output_type": "execute_result"
    }
   ],
   "source": [
    "cur.execute('''CREATE TABLE IF NOT EXISTS properties(\n",
    "    property_id varchar(10) primary key,\n",
    "    rent integer not null,\n",
    "    property_type_id integer not null,\n",
    "    locality varchar(30),\n",
    "    city char(20),\n",
    "    state char(20),\n",
    "    zipcode integer not null,\n",
    "    area integer,\n",
    "    rooms integer,\n",
    "    bathroom integer,\n",
    "    parking char(3)\n",
    ")''')"
   ]
  },
  {
   "cell_type": "markdown",
   "id": "5340619f-d53e-4bd7-ace7-5809faa76f75",
   "metadata": {},
   "source": [
    "#### creating table 'tenant'"
   ]
  },
  {
   "cell_type": "code",
   "execution_count": 6,
   "id": "20ca38c8-6c9e-4efd-b566-12f42494f051",
   "metadata": {},
   "outputs": [
    {
     "data": {
      "text/plain": [
       "<sqlite3.Cursor at 0x2c2c3127540>"
      ]
     },
     "execution_count": 6,
     "metadata": {},
     "output_type": "execute_result"
    }
   ],
   "source": [
    "cur.execute('''create table if not exists tenant(\n",
    "    tenant_id varchar(10) primary key,\n",
    "    property_id varchar(10) not null,\n",
    "    lease_id varcar(10) not null,\n",
    "    name char(30),\n",
    "    contact integer not null,\n",
    "    security_dep integer\n",
    ")''')"
   ]
  },
  {
   "cell_type": "markdown",
   "id": "67c261f4-472c-4726-82f0-7f894c424fd8",
   "metadata": {},
   "source": [
    "#### creating table 'lease'"
   ]
  },
  {
   "cell_type": "code",
   "execution_count": 7,
   "id": "77ee752f-d3e2-422f-8a3e-f0ae9eb2eb26",
   "metadata": {},
   "outputs": [
    {
     "data": {
      "text/plain": [
       "<sqlite3.Cursor at 0x2c2c3127540>"
      ]
     },
     "execution_count": 7,
     "metadata": {},
     "output_type": "execute_result"
    }
   ],
   "source": [
    "cur.execute('''create table if not exists lease(\n",
    "    lease_id varchar(10) primary key,\n",
    "    property_id varchar(10) not null,\n",
    "    tenant_id varchar(10) not null,\n",
    "    start_date date not null,\n",
    "    end_date date not null,\n",
    "    rent_amount integer,\n",
    "    lease_status char(8) not null\n",
    ")''')"
   ]
  },
  {
   "cell_type": "markdown",
   "id": "c5e04aa5-9c3a-4430-ae42-dcb58d5a6e26",
   "metadata": {},
   "source": [
    "#### creating table 'payment'"
   ]
  },
  {
   "cell_type": "markdown",
   "id": "1af60b69-b61e-4ab8-bcf6-588bf95b3b78",
   "metadata": {},
   "source": [
    "*Using pandas to create table from csv file*"
   ]
  },
  {
   "cell_type": "code",
   "execution_count": 8,
   "id": "064d62e8-ba37-4e7f-bddf-47a472084e33",
   "metadata": {},
   "outputs": [
    {
     "data": {
      "text/plain": [
       "224"
      ]
     },
     "execution_count": 8,
     "metadata": {},
     "output_type": "execute_result"
    }
   ],
   "source": [
    "payment= pd.read_csv('pay.csv')\n",
    "payment.to_sql('payment',conn,if_exists='replace',index=False)"
   ]
  },
  {
   "cell_type": "markdown",
   "id": "52648477-e827-48d1-92e4-b3140ddd7757",
   "metadata": {},
   "source": [
    "*checking the table description*"
   ]
  },
  {
   "cell_type": "code",
   "execution_count": 9,
   "id": "a2333eb6-df84-4afe-963c-6c44793b99da",
   "metadata": {},
   "outputs": [
    {
     "name": "stdout",
     "output_type": "stream",
     "text": [
      "('CREATE TABLE \"payment\" (\\n\"payment_id\" TEXT,\\n  \"tenant_id\" TEXT,\\n  \"payment_date\" TEXT,\\n  \"payment_amount\" INTEGER,\\n  \"mode\" TEXT\\n)',)\n"
     ]
    }
   ],
   "source": [
    "cur.execute('''select sql from sqlite_schema where name=\"payment\"''')\n",
    "paydata= cur.fetchone()\n",
    "print(paydata)"
   ]
  },
  {
   "cell_type": "markdown",
   "id": "2741ce6d-a0b1-4e74-b7a3-c70496893f55",
   "metadata": {},
   "source": [
    "#### creating table 'maintenance'"
   ]
  },
  {
   "cell_type": "code",
   "execution_count": 10,
   "id": "421dcb13-d597-40af-8053-b4fa56a51ce3",
   "metadata": {},
   "outputs": [
    {
     "data": {
      "text/plain": [
       "<sqlite3.Cursor at 0x2c2c3127540>"
      ]
     },
     "execution_count": 10,
     "metadata": {},
     "output_type": "execute_result"
    }
   ],
   "source": [
    "cur.execute('''create table if not exists maintenance(\n",
    "    request_id varchar(10) primary key,\n",
    "    tenant_id varchar(10) not null,\n",
    "    property_id varchar(10) not null,\n",
    "    request_type char not null,\n",
    "    description varchar(100),\n",
    "    request_status char not null\n",
    ")''')"
   ]
  },
  {
   "cell_type": "markdown",
   "id": "9c649302-3075-4924-bf72-1fc93aa726ee",
   "metadata": {},
   "source": [
    "#### creating table 'property_type'"
   ]
  },
  {
   "cell_type": "code",
   "execution_count": 11,
   "id": "f3ab8ff5-008c-46e4-8dbd-4c7c5cc84259",
   "metadata": {},
   "outputs": [
    {
     "data": {
      "text/plain": [
       "<sqlite3.Cursor at 0x2c2c3127540>"
      ]
     },
     "execution_count": 11,
     "metadata": {},
     "output_type": "execute_result"
    }
   ],
   "source": [
    "cur.execute('''create table if not exists property_type(\n",
    "    property_type_id integer primary key,\n",
    "    desc varchar(20) not null\n",
    ")''')"
   ]
  },
  {
   "cell_type": "markdown",
   "id": "a00725cc-6cfb-42c6-9cfc-092d014ea6c3",
   "metadata": {},
   "source": [
    "# Insering data into each table"
   ]
  },
  {
   "cell_type": "markdown",
   "id": "a8a2a34b-969d-4d23-868c-e07a73dcb25e",
   "metadata": {},
   "source": [
    "#### inserting data into 'properties' table"
   ]
  },
  {
   "cell_type": "code",
   "execution_count": 12,
   "id": "e4c1a2aa-c1a9-4280-8b62-a98b710a65bf",
   "metadata": {},
   "outputs": [],
   "source": [
    "# cur.execute('''select * from properties''')\n",
    "# a= cur.fetchall()\n",
    "# for row in a:\n",
    "#     print(row)"
   ]
  },
  {
   "cell_type": "code",
   "execution_count": 13,
   "id": "9714344b-5f9e-4e68-990c-51e54c9d962b",
   "metadata": {},
   "outputs": [
    {
     "data": {
      "text/plain": [
       "<sqlite3.Cursor at 0x2c2c3127540>"
      ]
     },
     "execution_count": 13,
     "metadata": {},
     "output_type": "execute_result"
    }
   ],
   "source": [
    "cur.execute('''INSERT INTO properties (property_id,locality,city,state,zipcode,property_type_id,area,rooms,bathroom,parking,rent)\n",
    "VALUES\n",
    "  ('P1', 'Sector 3, Electronic City', 'Chennai', 'Tamil Nadu', 592652, 2, 1311, 4, 4, 'No', 65000),\n",
    "  ('P2', 'Sector 7, Indiranagar', 'Jaipur', 'Rajasthan', 774368, 1, 892, 5, 1, 'No', 30000),\n",
    "  ('P3', 'Sector 6, HSR Layout', 'Bangalore', 'Karnataka', 838435, 2, 1487, 2, 2, 'Yes', 62000),\n",
    "  ('P4', 'Sector 1, Marathahalli', 'Jaipur', 'Rajasthan', 353768, 1, 1558, 2, 1, 'No', 41000),\n",
    "  ('P5', 'Sector 9, Indiranagar', 'Chennai', 'Tamil Nadu', 159636, 1, 1032, 3, 1, 'Yes', 16000),\n",
    "  ('P6', 'Sector 1, Koramangala', 'Hyderabad', 'Telangana', 761816, 1, 1582, 5, 3, 'Yes', 55000),\n",
    "  ('P7', 'Sector 8, HSR Layout', 'Bangalore', 'Karnataka', 452143, 2, 1123, 4, 4, 'No', 18000),\n",
    "  ('P8', 'Sector 5, BTM Layout', 'Jaipur', 'Rajasthan', 828818, 1, 891, 4, 2, 'No', 68000),\n",
    "  ('P9', 'Sector 3, Marathahalli', 'Bangalore', 'Karnataka', 248272, 1, 955, 4, 3, 'No', 65000),\n",
    "  ('P10', 'Sector 2, Indiranagar', 'Chennai', 'Tamil Nadu', 415437, 1, 985, 5, 3, 'No', 40000),\n",
    "  ('P11', 'Sector 1, BTM Layout', 'Chennai', 'Karnataka', 215690, 1, 933, 2, 1, 'No', 72000),\n",
    "  ('P12', 'Sector 4, Electronic City', 'Bangalore', 'Rajasthan', 621623, 1, 1092, 3, 3, 'No', 25000),\n",
    "  ('P13', 'Sector 10, Indiranagar', 'Jaipur', 'Rajasthan', 238740, 1, 1707, 3, 2, 'Yes', 37000),\n",
    "  ('P14', 'Sector 8, HSR Layout', 'Chennai', 'Telangana', 586328, 1, 1725, 3, 3, 'No', 23000),\n",
    "  ('P15', 'Sector 7, Marathahalli', 'Jaipur', 'Telangana', 157535, 2, 1022, 4, 4, 'Yes', 50000);'''\n",
    ")"
   ]
  },
  {
   "cell_type": "markdown",
   "id": "77ce0587-4280-4737-b910-c3c7ab1aad5b",
   "metadata": {},
   "source": [
    "#### inserting data into 'tenant table'"
   ]
  },
  {
   "cell_type": "code",
   "execution_count": 14,
   "id": "e320025c-a2c6-48a1-8ffa-89af7b333ff0",
   "metadata": {},
   "outputs": [
    {
     "data": {
      "text/plain": [
       "<sqlite3.Cursor at 0x2c2c3127540>"
      ]
     },
     "execution_count": 14,
     "metadata": {},
     "output_type": "execute_result"
    }
   ],
   "source": [
    "cur.execute('''insert into tenant (tenant_id,property_id,lease_id,name,contact,security_dep)\n",
    "values\n",
    "('T1', 'P1', 'L1', 'Aditya Sharma', 9876543210, 65000),\n",
    "('T2', 'P3', 'L2', 'Priya Gupta', 8765432109, 62000),\n",
    "('T3', 'P6', 'L3', 'Raj Kumar', 7654321098, 55000),\n",
    "('T4', 'P8', 'L4', 'Neha Patel', 6543210987, 68000),\n",
    "('T5', 'P11', 'L5', 'Vikas Reddy', 5432109876, 72000),\n",
    "('T6', 'P15', 'L6', 'Pooja Kapoor', 4321098765, 50000),\n",
    "('T7', 'P2', 'L7', 'Arjun Singh', 3210987654, 30000),\n",
    "('T8', 'P7', 'L8', 'Deepa Nair', 2109876543, 18000),\n",
    "('T9', 'P14', 'L9', 'Rahim Khan', 1098765432, 23000),\n",
    "('T10', 'P5', 'L10', 'Riya Chopra', 9087654321, 16000);\n",
    "''')"
   ]
  },
  {
   "cell_type": "markdown",
   "id": "03afb666-4a18-4bea-984b-fc7d492ee364",
   "metadata": {},
   "source": [
    "#### Insering data into 'lease' table"
   ]
  },
  {
   "cell_type": "code",
   "execution_count": 15,
   "id": "7b0cac93-0909-48e0-92da-80e63323916b",
   "metadata": {},
   "outputs": [
    {
     "data": {
      "text/plain": [
       "<sqlite3.Cursor at 0x2c2c3127540>"
      ]
     },
     "execution_count": 15,
     "metadata": {},
     "output_type": "execute_result"
    }
   ],
   "source": [
    "cur.execute('''insert into lease (lease_id,property_id,tenant_id,start_date,end_date,rent_amount,lease_status)\n",
    "values\n",
    "('L1', 'P1', 'T1', '2022-01-01', '2024-12-31', 65000, 'active'),\n",
    "('L2', 'P3', 'T2', '2021-06-15', '2023-06-14', 62000, 'inactive'),\n",
    "('L3', 'P6', 'T3', '2023-03-01', '2025-02-28', 55000, 'active'),\n",
    "('L4', 'P8', 'T4', '2019-09-01', '2021-08-31', 68000, 'inactive'),\n",
    "('L5', 'P11', 'T5', '2022-04-01', '2024-03-31', 72000, 'inctive'),\n",
    "('L6', 'P15', 'T6', '2021-11-01', '2023-10-31', 50000, 'inctive'),\n",
    "('L7', 'P2', 'T7', '2020-07-01', '2022-06-30', 30000, 'inactive'),\n",
    "('L8', 'P7', 'T8', '2023-02-01', '2025-01-31', 18000, 'active'),\n",
    "('L9', 'P14', 'T9', '2022-09-01', '2024-08-31', 23000, 'active'),\n",
    "('L10', 'P5', 'T10', '2021-03-01', '2023-02-28', 16000, 'inactive');'''\n",
    ")"
   ]
  },
  {
   "cell_type": "markdown",
   "id": "769cb84a-8345-467d-ba62-8f22911f342c",
   "metadata": {},
   "source": [
    "#### inserting data into 'maintenance' table"
   ]
  },
  {
   "cell_type": "code",
   "execution_count": 16,
   "id": "72fbe3cb-a5a5-40f4-8c22-645e3d37a4ab",
   "metadata": {},
   "outputs": [
    {
     "data": {
      "text/plain": [
       "<sqlite3.Cursor at 0x2c2c3127540>"
      ]
     },
     "execution_count": 16,
     "metadata": {},
     "output_type": "execute_result"
    }
   ],
   "source": [
    "cur.execute('''insert into maintenance (request_id,tenant_id,property_id,request_type,description,request_status)\n",
    "values\n",
    "('M1', 'T3', 'P6', 'P', 'Leaky faucet in kitchen sink.', 'unresolved'),\n",
    "  ('M2', 'T1', 'P1', 'E', 'Flickering lights in living room.', 'unresolved'),\n",
    "  ('M3', 'T7', 'P2', 'A', 'Dishwasher not draining properly.', 'unresolved'),\n",
    "  ('M4', 'T9', 'P14', 'P', 'Clogged drain in master bathroom.', 'resolved'),\n",
    "  ('M5', 'T2', 'P3', 'A', 'Oven not heating evenly.', 'unresolved'),\n",
    "  ('M6', 'T5', 'P11', 'E', 'Buzzing sound from electrical outlet.', 'resolved'),\n",
    "  ('M7', 'T4', 'P8', 'P', 'Running toilet in guest bathroom.', 'resolved'),\n",
    "  ('M8', 'T8', 'P7', 'A', 'Washing machine making loud noises during spin cycle.', 'unresolved'),\n",
    "  ('M9', 'T6', 'P15', 'E', 'Smoke detector beeping (battery replacement needed).', 'resolved'),\n",
    "  ('M10', 'T10', 'P5', 'P', 'Leaking pipe under kitchen sink.', 'unresolved'),\n",
    "  ('M11', 'T3', 'P6', 'A', 'Broken garbage disposal.', 'resolved'),\n",
    "  ('M12', 'T1', 'P1', 'P', 'Clogged drain in bathtub.', 'resolved');\n",
    "''')"
   ]
  },
  {
   "cell_type": "markdown",
   "id": "26ae6bf7-70d6-43ec-87e0-01df8e618464",
   "metadata": {},
   "source": [
    "#### inserting data into 'property_type' table"
   ]
  },
  {
   "cell_type": "code",
   "execution_count": 17,
   "id": "e443c1df-4f49-42ea-b134-7d654a028baa",
   "metadata": {},
   "outputs": [
    {
     "data": {
      "text/plain": [
       "<sqlite3.Cursor at 0x2c2c3127540>"
      ]
     },
     "execution_count": 17,
     "metadata": {},
     "output_type": "execute_result"
    }
   ],
   "source": [
    "cur.execute('''insert into property_type (`property_type_id`,`desc`)\n",
    "values (1,'house'), (2,'apartment');''')"
   ]
  },
  {
   "cell_type": "markdown",
   "id": "3abf0b50-79c4-4932-85d9-bcdca5cdcd67",
   "metadata": {},
   "source": [
    "# **Data Analysis**"
   ]
  },
  {
   "cell_type": "markdown",
   "id": "31e20a79-76c7-4ad9-8b2d-a717a60745dd",
   "metadata": {},
   "source": [
    "#### which city has available properties to rent?"
   ]
  },
  {
   "cell_type": "code",
   "execution_count": 18,
   "id": "515d5fe9-8d4f-4a4e-9027-3edd1460e76f",
   "metadata": {},
   "outputs": [
    {
     "name": "stdout",
     "output_type": "stream",
     "text": [
      "('Bangalore', 3)\n",
      "('Chennai', 2)\n",
      "('Jaipur', 4)\n"
     ]
    }
   ],
   "source": [
    "cur.execute('''select p.city, count(*) as unleased_property_count\n",
    "from properties as p left join lease as l\n",
    "on p.property_id = l.property_id\n",
    "where l.lease_status ='inactive' or l.lease_id is null\n",
    "group by p.city;\n",
    "''')\n",
    "\n",
    "unleased_property= cur.fetchall()\n",
    "for row in unleased_property:\n",
    "    print(row)"
   ]
  },
  {
   "cell_type": "markdown",
   "id": "7e3f9296-8f29-46d9-b2da-fcd61cf73607",
   "metadata": {},
   "source": [
    "#### In which city the rent may be increased?"
   ]
  },
  {
   "cell_type": "markdown",
   "id": "8bbc1640-fb44-4606-8759-6657c951338c",
   "metadata": {},
   "source": [
    "*Rent can be increased in future in cities with high lease demand.*"
   ]
  },
  {
   "cell_type": "code",
   "execution_count": 19,
   "id": "2215f50a-cd74-4c19-adf9-90e60dd2361c",
   "metadata": {},
   "outputs": [
    {
     "data": {
      "text/html": [
       "<div>\n",
       "<style scoped>\n",
       "    .dataframe tbody tr th:only-of-type {\n",
       "        vertical-align: middle;\n",
       "    }\n",
       "\n",
       "    .dataframe tbody tr th {\n",
       "        vertical-align: top;\n",
       "    }\n",
       "\n",
       "    .dataframe thead th {\n",
       "        text-align: right;\n",
       "    }\n",
       "</style>\n",
       "<table border=\"1\" class=\"dataframe\">\n",
       "  <thead>\n",
       "    <tr style=\"text-align: right;\">\n",
       "      <th></th>\n",
       "      <th>city</th>\n",
       "      <th>leased property count</th>\n",
       "    </tr>\n",
       "  </thead>\n",
       "  <tbody>\n",
       "    <tr>\n",
       "      <th>0</th>\n",
       "      <td>Chennai</td>\n",
       "      <td>4</td>\n",
       "    </tr>\n",
       "    <tr>\n",
       "      <th>1</th>\n",
       "      <td>Jaipur</td>\n",
       "      <td>3</td>\n",
       "    </tr>\n",
       "    <tr>\n",
       "      <th>2</th>\n",
       "      <td>Bangalore</td>\n",
       "      <td>2</td>\n",
       "    </tr>\n",
       "    <tr>\n",
       "      <th>3</th>\n",
       "      <td>Hyderabad</td>\n",
       "      <td>1</td>\n",
       "    </tr>\n",
       "  </tbody>\n",
       "</table>\n",
       "</div>"
      ],
      "text/plain": [
       "        city  leased property count\n",
       "0    Chennai                      4\n",
       "1     Jaipur                      3\n",
       "2  Bangalore                      2\n",
       "3  Hyderabad                      1"
      ]
     },
     "execution_count": 19,
     "metadata": {},
     "output_type": "execute_result"
    }
   ],
   "source": [
    "cur.execute('''select p.city, count(*) as leased_property_no\n",
    "from lease as l left join properties as p\n",
    "on l.property_id= p.property_id\n",
    "where lease_id is not null\n",
    "group by p.city\n",
    "order by leased_property_no desc;\n",
    "''')\n",
    "\n",
    "city_in_demand= pd.DataFrame(cur.fetchall(), columns=['city','leased property count'])\n",
    "city_in_demand"
   ]
  },
  {
   "cell_type": "code",
   "execution_count": 20,
   "id": "4fb2e917-63e1-40fd-a83f-9043f4270803",
   "metadata": {},
   "outputs": [
    {
     "data": {
      "image/png": "[encoded data removed]",
      "text/plain": [
       "<Figure size 640x480 with 1 Axes>"
      ]
     },
     "metadata": {},
     "output_type": "display_data"
    }
   ],
   "source": [
    "x= city_in_demand['city']\n",
    "y= city_in_demand['leased property count']\n",
    "plt.pie(y, labels=x, shadow=True)\n",
    "plt.title('popular city choice for residence')\n",
    "plt.text(2,1,'Chennai and Jaipur being more popular may expect rise in rental prices.')\n",
    "plt.show()"
   ]
  },
  {
   "cell_type": "markdown",
   "id": "92243333-ae4c-4808-8906-a1ff50c08a98",
   "metadata": {},
   "source": [
    "#### which property needs maintenance?"
   ]
  },
  {
   "cell_type": "code",
   "execution_count": 21,
   "id": "ed4cbecd-f3f7-48d0-b57e-d5599b96f989",
   "metadata": {},
   "outputs": [
    {
     "data": {
      "text/html": [
       "<div>\n",
       "<style scoped>\n",
       "    .dataframe tbody tr th:only-of-type {\n",
       "        vertical-align: middle;\n",
       "    }\n",
       "\n",
       "    .dataframe tbody tr th {\n",
       "        vertical-align: top;\n",
       "    }\n",
       "\n",
       "    .dataframe thead th {\n",
       "        text-align: right;\n",
       "    }\n",
       "</style>\n",
       "<table border=\"1\" class=\"dataframe\">\n",
       "  <thead>\n",
       "    <tr style=\"text-align: right;\">\n",
       "      <th></th>\n",
       "      <th>property_id</th>\n",
       "      <th>maintenance_request_count</th>\n",
       "    </tr>\n",
       "  </thead>\n",
       "  <tbody>\n",
       "    <tr>\n",
       "      <th>0</th>\n",
       "      <td>P6</td>\n",
       "      <td>2</td>\n",
       "    </tr>\n",
       "    <tr>\n",
       "      <th>1</th>\n",
       "      <td>P1</td>\n",
       "      <td>2</td>\n",
       "    </tr>\n",
       "    <tr>\n",
       "      <th>2</th>\n",
       "      <td>P8</td>\n",
       "      <td>1</td>\n",
       "    </tr>\n",
       "    <tr>\n",
       "      <th>3</th>\n",
       "      <td>P7</td>\n",
       "      <td>1</td>\n",
       "    </tr>\n",
       "    <tr>\n",
       "      <th>4</th>\n",
       "      <td>P5</td>\n",
       "      <td>1</td>\n",
       "    </tr>\n",
       "    <tr>\n",
       "      <th>5</th>\n",
       "      <td>P3</td>\n",
       "      <td>1</td>\n",
       "    </tr>\n",
       "  </tbody>\n",
       "</table>\n",
       "</div>"
      ],
      "text/plain": [
       "  property_id  maintenance_request_count\n",
       "0          P6                          2\n",
       "1          P1                          2\n",
       "2          P8                          1\n",
       "3          P7                          1\n",
       "4          P5                          1\n",
       "5          P3                          1"
      ]
     },
     "execution_count": 21,
     "metadata": {},
     "output_type": "execute_result"
    }
   ],
   "source": [
    "cur.execute('''select property_id, count(request_id) as count from maintenance\n",
    "group by property_id\n",
    "order by count desc;\n",
    "''')\n",
    "maintenance_request= pd.DataFrame(cur.fetchmany(6),columns=['property_id','maintenance_request_count'])\n",
    "maintenance_request"
   ]
  },
  {
   "cell_type": "code",
   "execution_count": 22,
   "id": "187cc306-7602-496a-b520-3aeba38c87de",
   "metadata": {},
   "outputs": [
    {
     "data": {
      "image/png": "[encoded data removed]",
      "text/plain": [
       "<Figure size 640x480 with 1 Axes>"
      ]
     },
     "metadata": {},
     "output_type": "display_data"
    },
    {
     "data": {
      "text/plain": [
       "<Figure size 400x250 with 0 Axes>"
      ]
     },
     "metadata": {},
     "output_type": "display_data"
    }
   ],
   "source": [
    "x=maintenance_request['property_id']\n",
    "y=maintenance_request['maintenance_request_count']\n",
    "plt.barh(x,y)\n",
    "plt.title(\"Maintenaance request of properties\")\n",
    "plt.xlabel(\"count of maintenance request\")\n",
    "plt.ylabel(\"property id\")\n",
    "plt.figure(figsize=(4, 2.5))\n",
    "plt.show()"
   ]
  },
  {
   "cell_type": "markdown",
   "id": "e7b84872-d3f0-4a3f-8d73-2d6776fa1b6d",
   "metadata": {},
   "source": [
    "#### which property has leakage or drain issue?"
   ]
  },
  {
   "cell_type": "code",
   "execution_count": 23,
   "id": "fa4b5860-1367-46d6-98b1-890afe7f9191",
   "metadata": {},
   "outputs": [
    {
     "name": "stdout",
     "output_type": "stream",
     "text": [
      "('P6', 'P', 'Leaky faucet in kitchen sink.')\n",
      "('P2', 'A', 'Dishwasher not draining properly.')\n",
      "('P14', 'P', 'Clogged drain in master bathroom.')\n",
      "('P5', 'P', 'Leaking pipe under kitchen sink.')\n",
      "('P1', 'P', 'Clogged drain in bathtub.')\n"
     ]
    }
   ],
   "source": [
    "cur.execute('''select property_id, request_type, description from maintenance\n",
    "where description like \"%leak%\" or description like \"%drain%\";\n",
    "''')\n",
    "issues= cur.fetchall()\n",
    "for row in issues:\n",
    "    print(row)"
   ]
  },
  {
   "cell_type": "markdown",
   "id": "4c1cc5a3-4761-463d-ab97-f8c707b5298d",
   "metadata": {},
   "source": [
    "#### *has those issues been resolved?*"
   ]
  },
  {
   "cell_type": "code",
   "execution_count": 24,
   "id": "bb01510d-71f1-4e3f-9a00-9f9213548f7a",
   "metadata": {},
   "outputs": [
    {
     "data": {
      "text/html": [
       "<div>\n",
       "<style scoped>\n",
       "    .dataframe tbody tr th:only-of-type {\n",
       "        vertical-align: middle;\n",
       "    }\n",
       "\n",
       "    .dataframe tbody tr th {\n",
       "        vertical-align: top;\n",
       "    }\n",
       "\n",
       "    .dataframe thead th {\n",
       "        text-align: right;\n",
       "    }\n",
       "</style>\n",
       "<table border=\"1\" class=\"dataframe\">\n",
       "  <thead>\n",
       "    <tr style=\"text-align: right;\">\n",
       "      <th></th>\n",
       "      <th>property id</th>\n",
       "      <th>request type</th>\n",
       "      <th>status</th>\n",
       "    </tr>\n",
       "  </thead>\n",
       "  <tbody>\n",
       "    <tr>\n",
       "      <th>0</th>\n",
       "      <td>P1</td>\n",
       "      <td>P</td>\n",
       "      <td>resolved</td>\n",
       "    </tr>\n",
       "    <tr>\n",
       "      <th>1</th>\n",
       "      <td>P14</td>\n",
       "      <td>P</td>\n",
       "      <td>resolved</td>\n",
       "    </tr>\n",
       "    <tr>\n",
       "      <th>2</th>\n",
       "      <td>P2</td>\n",
       "      <td>A</td>\n",
       "      <td>unresolved</td>\n",
       "    </tr>\n",
       "    <tr>\n",
       "      <th>3</th>\n",
       "      <td>P5</td>\n",
       "      <td>P</td>\n",
       "      <td>unresolved</td>\n",
       "    </tr>\n",
       "    <tr>\n",
       "      <th>4</th>\n",
       "      <td>P6</td>\n",
       "      <td>P</td>\n",
       "      <td>unresolved</td>\n",
       "    </tr>\n",
       "  </tbody>\n",
       "</table>\n",
       "</div>"
      ],
      "text/plain": [
       "  property id request type      status\n",
       "0          P1            P    resolved\n",
       "1         P14            P    resolved\n",
       "2          P2            A  unresolved\n",
       "3          P5            P  unresolved\n",
       "4          P6            P  unresolved"
      ]
     },
     "execution_count": 24,
     "metadata": {},
     "output_type": "execute_result"
    }
   ],
   "source": [
    "cur.execute('''select property_id, request_type, request_status from maintenance\n",
    "where description like \"%leak%\" or description like \"%drain%\"\n",
    "group by property_id;\n",
    "''')\n",
    "request_status= pd.DataFrame(cur.fetchall(), columns=['property id', 'request type', 'status'])\n",
    "request_status"
   ]
  },
  {
   "cell_type": "markdown",
   "id": "c84c1d38-b04b-447f-b988-d4a8dd8384e8",
   "metadata": {},
   "source": [
    "#### What is common lease duration?"
   ]
  },
  {
   "cell_type": "code",
   "execution_count": 25,
   "id": "1f1223a3-ecc7-4ada-b981-e04974b78760",
   "metadata": {},
   "outputs": [],
   "source": [
    "statement= \"\"\"\n",
    "SELECT (unixepoch(end_date) - unixepoch(start_date)) / 86400 AS stay_duration, count(*) as count\n",
    "FROM lease group by stay_duration;\n",
    "\"\"\"\n",
    "cur.execute(statement)\n",
    "duration= pd.DataFrame(cur.fetchall(), columns=['years','frequency'])"
   ]
  },
  {
   "cell_type": "code",
   "execution_count": 26,
   "id": "203913af-9ec7-4cbc-9524-6811ea810261",
   "metadata": {},
   "outputs": [
    {
     "data": {
      "text/html": [
       "<div>\n",
       "<style scoped>\n",
       "    .dataframe tbody tr th:only-of-type {\n",
       "        vertical-align: middle;\n",
       "    }\n",
       "\n",
       "    .dataframe tbody tr th {\n",
       "        vertical-align: top;\n",
       "    }\n",
       "\n",
       "    .dataframe thead th {\n",
       "        text-align: right;\n",
       "    }\n",
       "</style>\n",
       "<table border=\"1\" class=\"dataframe\">\n",
       "  <thead>\n",
       "    <tr style=\"text-align: right;\">\n",
       "      <th></th>\n",
       "      <th>years</th>\n",
       "      <th>frequency</th>\n",
       "    </tr>\n",
       "  </thead>\n",
       "  <tbody>\n",
       "    <tr>\n",
       "      <th>0</th>\n",
       "      <td>2</td>\n",
       "      <td>4</td>\n",
       "    </tr>\n",
       "    <tr>\n",
       "      <th>1</th>\n",
       "      <td>2</td>\n",
       "      <td>5</td>\n",
       "    </tr>\n",
       "    <tr>\n",
       "      <th>2</th>\n",
       "      <td>3</td>\n",
       "      <td>1</td>\n",
       "    </tr>\n",
       "  </tbody>\n",
       "</table>\n",
       "</div>"
      ],
      "text/plain": [
       "   years  frequency\n",
       "0      2          4\n",
       "1      2          5\n",
       "2      3          1"
      ]
     },
     "execution_count": 26,
     "metadata": {},
     "output_type": "execute_result"
    }
   ],
   "source": [
    "duration['years']= duration['years']//360\n",
    "duration"
   ]
  },
  {
   "cell_type": "code",
   "execution_count": 27,
   "id": "3141337e-4d9a-4254-b8f1-8c2d3cd25c39",
   "metadata": {},
   "outputs": [
    {
     "data": {
      "text/plain": [
       "Text(0.5, 0, 'days')"
      ]
     },
     "execution_count": 27,
     "metadata": {},
     "output_type": "execute_result"
    },
    {
     "data": {
      "image/png": "[encoded data removed]",
      "text/plain": [
       "<Figure size 640x480 with 1 Axes>"
      ]
     },
     "metadata": {},
     "output_type": "display_data"
    }
   ],
   "source": [
    "plt.figure()\n",
    "ax= plt.axes(projection='3d')\n",
    "\n",
    "x= duration['years']\n",
    "y=duration.index\n",
    "z= [0]*3\n",
    "\n",
    "dx=[1]*3\n",
    "dy=[0.5]*3\n",
    "dz= duration['frequency']\n",
    "\n",
    "ax.bar3d(x,y,z,dx,dy,dz, color=['green','red','purple'])\n",
    "ax.set_title(\"Stay frequency\")\n",
    "ax.set_xlabel('days')"
   ]
  },
  {
   "cell_type": "markdown",
   "id": "a87c46b1-e8d2-4646-9724-1a5dcebf3907",
   "metadata": {},
   "source": [
    "## make changes permanent and terminate the connection"
   ]
  },
  {
   "cell_type": "code",
   "execution_count": 28,
   "id": "6e3906d0-89ec-4de5-9ac6-1770aa364796",
   "metadata": {},
   "outputs": [],
   "source": [
    "conn.commit()"
   ]
  },
  {
   "cell_type": "code",
   "execution_count": 29,
   "id": "9b9fd9b0-06cc-4b6f-96b9-10bd8e5cf7ef",
   "metadata": {},
   "outputs": [],
   "source": [
    "conn.close()"
   ]
  },
  {
   "cell_type": "markdown",
   "id": "67bd1ec0-5712-4aff-84ee-e868f9bbf371",
   "metadata": {},
   "source": [
    "*Thank You*"
   ]
  }
 ],
 "metadata": {
  "kernelspec": {
   "display_name": "Python 3 (ipykernel)",
   "language": "python",
   "name": "python3"
  },
  "language_info": {
   "codemirror_mode": {
    "name": "ipython",
    "version": 3
   },
   "file_extension": ".py",
   "mimetype": "text/x-python",
   "name": "python",
   "nbconvert_exporter": "python",
   "pygments_lexer": "ipython3",
   "version": "3.12.1"
  }
 },
 "nbformat": 4,
 "nbformat_minor": 5
}
